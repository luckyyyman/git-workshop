{
  "nbformat": 4,
  "nbformat_minor": 0,
  "metadata": {
    "colab": {
      "provenance": [],
      "authorship_tag": "ABX9TyPL86FgHwjeRvfFKMLcKC+U",
      "include_colab_link": true
    },
    "kernelspec": {
      "name": "python3",
      "display_name": "Python 3"
    },
    "language_info": {
      "name": "python"
    }
  },
  "cells": [
    {
      "cell_type": "markdown",
      "metadata": {
        "id": "view-in-github",
        "colab_type": "text"
      },
      "source": [
        "<a href=\"https://colab.research.google.com/github/luckyyyman/git-workshop/blob/main/RealEstate_EDAV.ipynb\" target=\"_parent\"><img src=\"https://colab.research.google.com/assets/colab-badge.svg\" alt=\"Open In Colab\"/></a>"
      ]
    },
    {
      "cell_type": "code",
      "source": [],
      "metadata": {
        "id": "R_JXO1WSJ0k4"
      },
      "execution_count": null,
      "outputs": []
    },
    {
      "cell_type": "markdown",
      "source": [
        "# Project: Real Estate Exploratory Data Analysis and Visualization (EDAV)\n",
        "\n",
        "**Project ID:** CBIT/IT-1/EDAV/2025/CEP-10  \n",
        "**Roll No:** 160124737058  \n",
        "**Name:** Sujal Prakash Vuba  \n",
        "**Department:** Information Technology  \n",
        "**Institution:** Chaitanya Bharathi Institute of Technology (A), Hyderabad  \n",
        "\n",
        "## Problem Overview\n",
        "\n",
        "The objective of this project is to analyze a real estate dataset and extract meaningful insights about property prices, locations, and types. We will perform the following tasks:\n",
        "\n",
        "1. Calculate the average property price using NumPy (Bloom’s Level: 3)  \n",
        "2. Filter properties by city and property type using Pandas (Bloom’s Level: 3)  \n",
        "3. Handle missing property attribute data (Bloom’s Level: 4)  \n",
        "4. Group properties by city and locality (Bloom’s Level: 4)  \n",
        "5. Plot price trends for top cities using Matplotlib (Bloom’s Level: 5)  \n",
        "\n",
        "## Dataset\n",
        "\n",
        "A dataset of 500 real estate properties is used for analysis.  \n",
        "**Download link:** [Real Estate Dataset](https://drive.google.com/file/d/1JIfla9Dt68jSlHKjvZbyyxjeovyOOcVC/view?usp=s)\n"
      ],
      "metadata": {
        "id": "__ELkY4FKPt4"
      }
    },
    {
      "cell_type": "code",
      "source": [
        "import pandas as pd\n",
        "import numpy as np\n",
        "import matplotlib.pyplot as plt\n",
        "from google.colab import files\n",
        "\n",
        "uploaded = files.upload()\n",
        "file_name = \"Hyderabad_Real_Estate_Big_Dataset.xlsx\"\n",
        "df = pd.read_excel(file_name)\n",
        "\n",
        "df.columns = [c.strip() for c in df.columns]\n",
        "\n",
        "def find_col(names):\n",
        "    for n in names:\n",
        "        for c in df.columns:\n",
        "            if n.lower() in c.lower():\n",
        "                return c\n",
        "    return None\n",
        "\n",
        "price_col = find_col(['price', 'amount', 'sale'])\n",
        "city_col = find_col(['city', 'location', 'area', 'place'])\n",
        "type_col = find_col(['type', 'property'])\n",
        "locality_col = find_col(['locality', 'neighbourhood'])\n",
        "\n",
        "df['Price'] = (\n",
        "    df[price_col].astype(str)\n",
        "    .str.replace(r'[^\\d.]', '', regex=True)\n",
        "    .replace('', np.nan)\n",
        "    .astype(float)\n",
        ")\n",
        "df['City'] = df[city_col].astype(str).fillna('Unknown')\n",
        "df['Type'] = df[type_col].astype(str).fillna('Unknown')\n",
        "df['Locality'] = df[locality_col].astype(str).fillna('Unknown')\n",
        "\n",
        "print(\"Detected columns:\")\n",
        "print(\"Price:\", price_col, \"| City:\", city_col, \"| Type:\", type_col, \"| Locality:\", locality_col)\n",
        "\n",
        "# Q1: Calculate average property price with NumPy\n",
        "mean_price = np.mean(df['Price'])\n",
        "median_price = np.median(df['Price'])\n",
        "std_price = np.std(df['Price'])\n",
        "print(\"\\nQ1 → Average Price (Mean):\", round(mean_price, 2))\n",
        "print(\"Median:\", round(median_price, 2), \"| Std Dev:\", round(std_price, 2))\n",
        "\n",
        "# Q2: Filter properties by city and type using Pandas\n",
        "top_city = df['City'].mode()[0]\n",
        "top_type = df['Type'].mode()[0]\n",
        "filtered = df[(df['City'] == top_city) & (df['Type'] == top_type)]\n",
        "print(f\"\\nQ2 → Properties in {top_city} of type {top_type}: {len(filtered)} found.\")\n",
        "display(filtered.head(5))\n",
        "\n",
        "# Q3: Handle missing property attribute data\n",
        "print(\"\\nMissing values before:\")\n",
        "print(df.isnull().sum())\n",
        "\n",
        "df['Price'].fillna(df['Price'].median(), inplace=True)\n",
        "df['Locality'].fillna('Unknown', inplace=True)\n",
        "df['Type'].fillna('Unknown', inplace=True)\n",
        "\n",
        "print(\"\\nMissing values after:\")\n",
        "print(df.isnull().sum())\n",
        "\n",
        "# Q4: Group properties by city and locality\n",
        "grouped = df.groupby(['City', 'Locality']).agg(\n",
        "    Listings=('Price', 'count'),\n",
        "    Avg_Price=('Price', 'mean'),\n",
        "    Median_Price=('Price', 'median')\n",
        ").reset_index()\n",
        "\n",
        "print(\"\\nQ4 → Top localities by listings:\")\n",
        "display(grouped.sort_values('Listings', ascending=False).head(10))\n",
        "\n",
        "# Q5: Plot price trends for top cities using Matplotlib\n",
        "plt.figure(figsize=(10, 5))\n",
        "avg_city_price = df.groupby('City')['Price'].mean().sort_values(ascending=False)\n",
        "avg_city_price.plot(kind='bar')\n",
        "plt.title(\"Average Property Price by City\")\n",
        "plt.xlabel(\"City\")\n",
        "plt.ylabel(\"Average Price (INR)\")\n",
        "plt.xticks(rotation=45)\n",
        "plt.show()\n",
        "\n",
        "plt.figure(figsize=(10, 5))\n",
        "top_cities = df['City'].value_counts().head(5).index\n",
        "data = [df[df['City'] == c]['Price'] for c in top_cities]\n",
        "plt.boxplot(data, labels=top_cities, showfliers=False)\n",
        "plt.title(\"Price Distribution of Top 5 Cities\")\n",
        "plt.ylabel(\"Price (INR)\")\n",
        "plt.show()\n",
        "\n",
        "print(\"✅ All five questions executed successfully!\")\n"
      ],
      "metadata": {
        "id": "7YtNZrshF4JP"
      },
      "execution_count": null,
      "outputs": []
    },
    {
      "cell_type": "code",
      "source": [
        "### Question 1: Calculate average property price with NumPy (BL-3)\n",
        "\n",
        "import pandas as pd\n",
        "import numpy as np\n",
        "import matplotlib.pyplot as plt\n",
        "import seaborn as sns\n",
        "\n",
        "df = pd.read_csv(\"real_estate_data.csv\")\n",
        "\n",
        "average_price = np.mean(df['Price'])\n",
        "print(\"Average Property Price:\", average_price)\n",
        "\n",
        "median_price = np.median(df['Price'])\n",
        "print(\"Median Property Price:\", median_price)\n",
        "\n",
        "price_std = np.std(df['Price'])\n",
        "print(\"Price Standard Deviation:\", price_std)\n",
        "\n",
        "sns.histplot(df['Price'], bins=40, kde=True, color='skyblue')\n",
        "plt.title(\"Distribution of Property Prices\")\n",
        "plt.show()\n"
      ],
      "metadata": {
        "id": "2wIJ5dxaJIjx"
      },
      "execution_count": null,
      "outputs": []
    },
    {
      "cell_type": "code",
      "source": [
        "### Question 2: Filter properties by city and type in Pandas (BL-3)\n",
        "\n",
        "filtered_props = df[(df['City'] == 'Hyderabad') & (df['Property_Type'] == 'Apartment')]\n",
        "filtered_props.head(10)\n",
        "\n",
        "city_counts = df['City'].value_counts()\n",
        "plt.figure(figsize=(10,5))\n",
        "sns.barplot(x=city_counts.index, y=city_counts.values, palette=\"viridis\")\n",
        "plt.title(\"Number of Properties per City\")\n",
        "plt.show()\n",
        "\n",
        "type_counts = df['Property_Type'].value_counts()\n",
        "plt.figure(figsize=(10,5))\n",
        "sns.barplot(x=type_counts.index, y=type_counts.values, palette=\"magma\")\n",
        "plt.title(\"Number of Properties per Property Type\")\n",
        "plt.xticks(rotation=45)\n",
        "plt.show()\n"
      ],
      "metadata": {
        "id": "pUtRfxlKJOuU"
      },
      "execution_count": null,
      "outputs": []
    },
    {
      "cell_type": "code",
      "source": [
        "### Question 3: Handle missing property attribute data (BL-4)\n",
        "\n",
        "\n",
        "numeric_cols = df.select_dtypes(include=np.number).columns\n",
        "df[numeric_cols] = df[numeric_cols].fillna(df[numeric_cols].mean())\n",
        "\n",
        "categorical_cols = df.select_dtypes(include='object').columns\n",
        "for col in categorical_cols:\n",
        "    df[col].fillna(df[col].mode()[0], inplace=True)\n",
        "\n",
        "missing_values = df.isnull().sum()\n",
        "missing_values\n",
        "\n",
        "sns.heatmap(df.isnull(), cbar=False, yticklabels=False, cmap='coolwarm')\n",
        "plt.title(\"Missing Values After Handling\")\n",
        "plt.show()\n"
      ],
      "metadata": {
        "id": "I30pJdcSJR6C"
      },
      "execution_count": null,
      "outputs": []
    },
    {
      "cell_type": "code",
      "source": [
        "### Question 4: Group properties by city and locality (BL-4)\n",
        "\n",
        "grouped = df.groupby(['City', 'Locality'])['Price'].mean().reset_index()\n",
        "grouped_top = grouped.sort_values(by='Price', ascending=False).head(15)\n",
        "grouped_top\n",
        "\n",
        "plt.figure(figsize=(12,6))\n",
        "sns.barplot(x='Locality', y='Price', hue='City', data=grouped_top)\n",
        "plt.title(\"Top Localities by Average Property Price\")\n",
        "plt.xticks(rotation=45)\n",
        "plt.show()\n",
        "\n",
        "grouped_count = df.groupby(['City', 'Locality']).size().reset_index(name='Count')\n",
        "grouped_count_top = grouped_count.sort_values(by='Count', ascending=False).head(15)\n",
        "plt.figure(figsize=(12,6))\n",
        "sns.barplot(x='Locality', y='Count', hue='City', data=grouped_count_top)\n",
        "plt.title(\"Top Localities by Number of Properties\")\n",
        "plt.xticks(rotation=45)\n",
        "plt.show()\n"
      ],
      "metadata": {
        "id": "9L4xMdzzJVZ1"
      },
      "execution_count": null,
      "outputs": []
    },
    {
      "cell_type": "code",
      "source": [
        "### Question 5: Plot price trends for top cities using Matplotlib (BL-5)\n",
        "\n",
        "top_cities = df.groupby('City')['Price'].mean().sort_values(ascending=False).head(5)\n",
        "plt.figure(figsize=(10,6))\n",
        "plt.bar(top_cities.index, top_cities.values, color='skyblue')\n",
        "plt.title(\"Average Property Prices in Top Cities\")\n",
        "plt.xlabel(\"City\")\n",
        "plt.ylabel(\"Average Price\")\n",
        "plt.show()\n",
        "\n",
        "plt.figure(figsize=(10,6))\n",
        "for city in top_cities.index:\n",
        "    city_data = df[df['City'] == city]\n",
        "    city_data_sorted = city_data.sort_values(by='Date', ascending=True) if 'Date' in df.columns else city_data\n",
        "    plt.plot(range(len(city_data_sorted)), city_data_sorted['Price'], label=city)\n",
        "plt.title(\"Price Trends for Top Cities\")\n",
        "plt.xlabel(\"Property Index\")\n",
        "plt.ylabel(\"Price\")\n",
        "plt.legend()\n",
        "plt.show()\n"
      ],
      "metadata": {
        "id": "7Ad3ClHBJY4w"
      },
      "execution_count": null,
      "outputs": []
    }
  ]
}